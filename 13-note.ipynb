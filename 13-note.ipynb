{
 "cells": [
  {
   "cell_type": "code",
   "execution_count": 1,
   "metadata": {
    "collapsed": false
   },
   "outputs": [
    {
     "data": {
      "text/plain": [
       "(0.00,0.00)"
      ]
     },
     "execution_count": 1,
     "metadata": {},
     "output_type": "execute_result"
    }
   ],
   "source": [
    "import turtle\n",
    "turtle = turtle.Turtle()\n",
    "turtle.position()"
   ]
  },
  {
   "cell_type": "code",
   "execution_count": 2,
   "metadata": {
    "collapsed": true
   },
   "outputs": [],
   "source": [
    "turtle.home()\n",
    "turtle.clear()\n",
    "turtle.forward(200)\n",
    "turtle.left(120)\n",
    "turtle.forward(200)\n",
    "turtle.left(120)\n",
    "turtle.forward(200)"
   ]
  },
  {
   "cell_type": "markdown",
   "metadata": {},
   "source": [
    "三角"
   ]
  },
  {
   "cell_type": "code",
   "execution_count": 8,
   "metadata": {
    "collapsed": false
   },
   "outputs": [
    {
     "ename": "SyntaxError",
     "evalue": "invalid character in identifier (<ipython-input-8-ae9f9a46c3e0>, line 5)",
     "output_type": "error",
     "traceback": [
      "\u001b[0;36m  File \u001b[0;32m\"<ipython-input-8-ae9f9a46c3e0>\"\u001b[0;36m, line \u001b[0;32m5\u001b[0m\n\u001b[0;31m    turtle.forward(200)\u001b[0m\n\u001b[0m         ^\u001b[0m\n\u001b[0;31mSyntaxError\u001b[0m\u001b[0;31m:\u001b[0m invalid character in identifier\n"
     ]
    }
   ],
   "source": [
    "turtle.home()\n",
    "turtle.clear()\n",
    "\n",
    "for i in range(3):\n",
    "　　turtle.forward(200)　　\n",
    "    turtle.left(120)\n"
   ]
  },
  {
   "cell_type": "code",
   "execution_count": 9,
   "metadata": {
    "collapsed": true
   },
   "outputs": [],
   "source": [
    "turtle.home()\n",
    "turtle.clear()\n",
    "\n",
    "for i in range(5):\n",
    "  turtle.forward(200)\n",
    "  turtle.left(144)"
   ]
  },
  {
   "cell_type": "markdown",
   "metadata": {},
   "source": [
    "星"
   ]
  },
  {
   "cell_type": "code",
   "execution_count": 10,
   "metadata": {
    "collapsed": false
   },
   "outputs": [
    {
     "name": "stdout",
     "output_type": "stream",
     "text": [
      "hello\n"
     ]
    }
   ],
   "source": [
    "import turtle\n",
    "t = turtle.Turtle()\n",
    "t.home()\n",
    "t.clear()\n",
    "\n",
    "for x in range(4):\n",
    "  t.forward(100)\n",
    "  t.left(90)\n",
    "print('hello')"
   ]
  },
  {
   "cell_type": "code",
   "execution_count": 11,
   "metadata": {
    "collapsed": false
   },
   "outputs": [
    {
     "name": "stdout",
     "output_type": "stream",
     "text": [
      "hello\n"
     ]
    }
   ],
   "source": [
    "t.home()\n",
    "t.clear()\n",
    "for i in range(4):\n",
    "  t.up()\n",
    "  t.forward(20)\n",
    "  t.down()\n",
    "  for x in range(4):\n",
    "    t.forward(100)\n",
    "    t.left(90)\n",
    "  t.left(-90)\n",
    "print('hello')"
   ]
  },
  {
   "cell_type": "markdown",
   "metadata": {},
   "source": [
    "問145↑"
   ]
  },
  {
   "cell_type": "code",
   "execution_count": 14,
   "metadata": {
    "collapsed": true
   },
   "outputs": [],
   "source": [
    "turtle.home()\n",
    "turtle.clear()\n",
    "turtle.forward(200)\n",
    "turtle.left(120)\n",
    "turtle.forward(200)\n",
    "turtle.left(120)\n",
    "turtle.forward(200)"
   ]
  },
  {
   "cell_type": "code",
   "execution_count": 17,
   "metadata": {
    "collapsed": false
   },
   "outputs": [
    {
     "ename": "SyntaxError",
     "evalue": "invalid syntax (<ipython-input-17-d43b1ed4e37c>, line 1)",
     "output_type": "error",
     "traceback": [
      "\u001b[0;36m  File \u001b[0;32m\"<ipython-input-17-d43b1ed4e37c>\"\u001b[0;36m, line \u001b[0;32m1\u001b[0m\n\u001b[0;31m    der total(n):\u001b[0m\n\u001b[0m            ^\u001b[0m\n\u001b[0;31mSyntaxError\u001b[0m\u001b[0;31m:\u001b[0m invalid syntax\n"
     ]
    }
   ],
   "source": [
    "der total(n):\n",
    "    s = 0\n",
    "    for i in range(1, n + 1 ):\n",
    "        s += i\n",
    "    return s\n",
    "\n",
    "total(5)\n",
    "\n",
    "total(10)"
   ]
  },
  {
   "cell_type": "code",
   "execution_count": 20,
   "metadata": {
    "collapsed": false
   },
   "outputs": [],
   "source": [
    "import turtle\n",
    "turtle = turtle.Turtle()\n",
    "\n",
    "def center_circle():\n",
    " turtle.penup()\n",
    " turtle.forward(200)\n",
    " turtle.left(90)\n",
    " turtle.pendown()\n",
    " turtle.circle(200)\n",
    " turtle.left(90)\n",
    " turtle.penup()\n",
    " turtle.forward(200)\n",
    " turtle.pendown()\n",
    " \n",
    "center_circle()"
   ]
  },
  {
   "cell_type": "markdown",
   "metadata": {},
   "source": [
    "問158　円　↑"
   ]
  },
  {
   "cell_type": "code",
   "execution_count": 22,
   "metadata": {
    "collapsed": false
   },
   "outputs": [],
   "source": [
    "def center_circle():\n",
    "\n",
    "  t.penup()\n",
    "\n",
    "  t.forward(200)\n",
    "\n",
    "  t.left(90)\n",
    "\n",
    "  t.pendown()\n",
    "\n",
    "  t.circle(200)\n",
    "\n",
    "  t.left(90)\n",
    "\n",
    "  t.penup()\n",
    "\n",
    "  t.forward(200)\n",
    "\n",
    "  t.pendown()\n",
    "\n",
    "\n",
    "\n",
    "center_circle()\n"
   ]
  },
  {
   "cell_type": "markdown",
   "metadata": {},
   "source": [
    "原点中心の円↑"
   ]
  },
  {
   "cell_type": "code",
   "execution_count": 25,
   "metadata": {
    "collapsed": true
   },
   "outputs": [],
   "source": [
    "def circle(x,y,r):\n",
    "    t.up()\n",
    "    t.home()\n",
    "    t.forward(x)\n",
    "    t.left(90)\n",
    "    t.forward(y)\n",
    "    t.forward(r)\n",
    "    t.left(90)\n",
    "    t.down()\n",
    "    t.circle(r)\n",
    "    \n",
    "t.home()\n",
    "t.clear()\n",
    "\n",
    "circle(0,0,100)\n",
    "circle(0,0,100)\n",
    "circle(100,200,50)\n"
   ]
  },
  {
   "cell_type": "code",
   "execution_count": 26,
   "metadata": {
    "collapsed": true
   },
   "outputs": [],
   "source": [
    "def circle(x, y, r = 150):\n",
    "\n",
    "  t.up()\n",
    "\n",
    "  t.home()\n",
    "\n",
    "  t.forward(x)\n",
    "\n",
    "  t.left(90)\n",
    "\n",
    "  t.forward(y)\n",
    "\n",
    "  t.forward(r)\n",
    "\n",
    "  t.left(90)\n",
    "\n",
    "  t.down()\n",
    "\n",
    "  t.circle(r)\n",
    "\n",
    "\n",
    "\n",
    "t.home()\n",
    "\n",
    "t.clear()\n",
    "\n",
    "\n",
    "\n",
    "circle(100, -100)\n",
    "\n",
    "circle(100, 100, 50)\n",
    "\n",
    "circle(-100, -100, 50)\n",
    "\n",
    "circle(-100, 100, 50)"
   ]
  },
  {
   "cell_type": "markdown",
   "metadata": {},
   "source": [
    "問161　↑"
   ]
  },
  {
   "cell_type": "code",
   "execution_count": null,
   "metadata": {
    "collapsed": true
   },
   "outputs": [],
   "source": []
  }
 ],
 "metadata": {
  "kernelspec": {
   "display_name": "Python 3",
   "language": "python",
   "name": "python3"
  },
  "language_info": {
   "codemirror_mode": {
    "name": "ipython",
    "version": 3
   },
   "file_extension": ".py",
   "mimetype": "text/x-python",
   "name": "python",
   "nbconvert_exporter": "python",
   "pygments_lexer": "ipython3",
   "version": "3.6.0"
  }
 },
 "nbformat": 4,
 "nbformat_minor": 2
}
